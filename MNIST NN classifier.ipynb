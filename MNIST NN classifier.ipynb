{
 "cells": [
  {
   "cell_type": "code",
   "execution_count": 4,
   "id": "a635cccd",
   "metadata": {},
   "outputs": [],
   "source": [
    "#importing dependencies\n",
    "import numpy as np\n",
    "import pandas as pd\n",
    "import matplotlib.pyplot as plt\n",
    "from tkinter import *\n",
    "from tkinter.ttk import Scale\n",
    "from tkinter import colorchooser,filedialog,messagebox\n",
    "import PIL.ImageGrab as ImageGrab\n",
    "from PIL import Image\n",
    "import cv2\n",
    "import os"
   ]
  },
  {
   "cell_type": "code",
   "execution_count": 6,
   "id": "4136fcb4",
   "metadata": {},
   "outputs": [],
   "source": [
    "#importing the dataset and seperating x and y training and test values\n",
    "df1 = pd.read_csv('mnist_train.csv')\n",
    "n_samples = int(60000)\n",
    "Y_train = np.array(df1.iloc[:n_samples,0]).T\n",
    "X_train = np.array(df1.iloc[:n_samples,1:].T/255)\n",
    "df2 = pd.read_csv('mnist_test.csv')\n",
    "Y_test = np.array(df2.iloc[:10000,0]).T\n",
    "X_test = np.array(df2.iloc[:10000,1:].T/255)"
   ]
  },
  {
   "cell_type": "code",
   "execution_count": 7,
   "id": "f0369e07",
   "metadata": {},
   "outputs": [],
   "source": [
    "# Check the shapes of training sets\n",
    "# print(\"X_train: \",X_train.shape)\n",
    "# print(\"Y_train: \",Y_test.shape)\n",
    "# print(Y_train[0])"
   ]
  },
  {
   "cell_type": "code",
   "execution_count": 8,
   "id": "0ef83834",
   "metadata": {},
   "outputs": [
    {
     "name": "stdout",
     "output_type": "stream",
     "text": [
      "[5 0 4 1 9]\n",
      "[[0. 0. 0. 0. 0. 1. 0. 0. 0. 0.]\n",
      " [1. 0. 0. 0. 0. 0. 0. 0. 0. 0.]\n",
      " [0. 0. 0. 0. 1. 0. 0. 0. 0. 0.]\n",
      " [0. 1. 0. 0. 0. 0. 0. 0. 0. 0.]\n",
      " [0. 0. 0. 0. 0. 0. 0. 0. 0. 1.]]\n"
     ]
    }
   ],
   "source": [
    "## We want answer as a probability so we will have to convert the input labels 'Y'\n",
    "## into probabilities i.e. '1' for that digit and '0' for the rest.\n",
    "def transform(y):\n",
    "    temp = np.zeros((y.size,10))\n",
    "    temp[np.arange(y.size),y] = 1\n",
    "    temp = temp.T\n",
    "    return temp\n",
    "Y_test_prob = transform(Y_test)\n",
    "Y_train_prob = transform(Y_train)\n",
    "print(Y_train[:5])\n",
    "print(Y_train_prob[:,:5].T)"
   ]
  },
  {
   "cell_type": "code",
   "execution_count": 9,
   "id": "2c9cc7ec",
   "metadata": {},
   "outputs": [],
   "source": [
    "def initialize_parameters():\n",
    "    W1 = np.random.randn(512,784)\n",
    "    W2 = np.random.randn(10,512)\n",
    "    b1 = np.zeros((512,1))\n",
    "    b2 = np.zeros((10,1))\n",
    "    return W1,W2,b1,b2"
   ]
  },
  {
   "cell_type": "code",
   "execution_count": 10,
   "id": "bdb1107c",
   "metadata": {},
   "outputs": [],
   "source": [
    "# Define all the activation functions which return activation values.\n",
    "def sigmoid(x):\n",
    "    return 1/(1 + np.exp(-x))\n",
    "\n",
    "def relu(x):\n",
    "    return np.maximum(0,x)\n",
    "#     return np.maximum(x*1e-3,x),x\n",
    "def tanh(x):\n",
    "    return (np.exp(x)-np.exp(-x))/(np.exp(x) + np.exp(-x))\n",
    "\n",
    "def softmax(x):\n",
    "    return np.exp(x)/(np.sum(np.exp(x),axis = 0, keepdims = True))\n",
    "\n",
    "def probability(x):\n",
    "    return x/(np.sum(x,axis = 1,keepdims = True))"
   ]
  },
  {
   "cell_type": "code",
   "execution_count": 11,
   "id": "99deca61",
   "metadata": {},
   "outputs": [],
   "source": [
    "def forward_prop(X,W1,b1,W2,b2):\n",
    "    Z1 = np.dot(W1,X) + b1 #(128,784)*(784, 10000) = (128,10000)\n",
    "    Z1 = Z1/100\n",
    "    A1 = relu(Z1) #(128,10000)\n",
    "    Z2 = np.dot(W2,A1) + b2 #(10,128)*(128,10000) = (10,10000)\n",
    "    A2 = sigmoid(Z2) #(10,10000)\n",
    "    A2 = softmax(Z2)\n",
    "    return A1,A2,Z1"
   ]
  },
  {
   "cell_type": "code",
   "execution_count": 12,
   "id": "df7671b8",
   "metadata": {},
   "outputs": [],
   "source": [
    "def backward_prop(A2,Y,A1,W2,X,Z1):\n",
    "    m = X.shape[1]\n",
    "    dZ2 = A2 - Y\n",
    "    dW2 = np.dot(dZ2,A1.T)/m #(10,128)\n",
    "    db2 = np.sum(dZ2,axis = 1,keepdims = True)/m #(10,1)\n",
    "    g_z = Z1 > 0    #for ReLU activation function\n",
    "#     g_z = Z1*(1-Z1)\n",
    "    dZ1 = np.multiply(np.dot(W2.T,dZ2),g_z)\n",
    "    dW1 = np.dot(dZ1,X.T)/m # (128,784)\n",
    "    db1 = np.sum(dZ1,1,keepdims = True)/m #(128,1)\n",
    "    return dW1,dW2,db1,db2,dZ2,dZ1,g_z"
   ]
  },
  {
   "cell_type": "code",
   "execution_count": 13,
   "id": "f9205694",
   "metadata": {},
   "outputs": [],
   "source": [
    "def compute_accuracy(AL,Y):\n",
    "    count = int(0)\n",
    "    m = Y.shape[0]\n",
    "    prediction = np.argmax(AL,0) == Y\n",
    "#     for i in range(m):\n",
    "#         if  prediction[i] == Y[i]:  #np.argmax(AL[:,i])\n",
    "    count = np.sum(prediction)\n",
    "    # -np.average(y*np.log(p) + (1-y)*np.log(1-p))\n",
    "#     np.squeeze(cost) ## Transforms single dimensional value matrix to simple values\n",
    "    return count/m*100"
   ]
  },
  {
   "cell_type": "code",
   "execution_count": 14,
   "id": "08776159",
   "metadata": {},
   "outputs": [],
   "source": [
    "def compute_cost(AL,Y):\n",
    "    m = Y.shape[0]\n",
    "    cost = -1*np.sum(np.multiply(np.log(AL),Y) + np.multiply(np.log(1-AL),1-Y))/m\n",
    "    # -np.average(y*np.log(p) + (1-y)*np.log(1-p))\n",
    "    np.squeeze(cost) ## Remove single dimensional values\n",
    "    return cost"
   ]
  },
  {
   "cell_type": "code",
   "execution_count": 15,
   "id": "33128a48",
   "metadata": {},
   "outputs": [],
   "source": [
    "def predict(X,W1,b1,W2,b2):\n",
    "    a,prob,c = forward_prop(X,W1,b1,W2,b2)\n",
    "    return np.argmax(prob,0)  ## If we pass one example only then it will give error"
   ]
  },
  {
   "cell_type": "code",
   "execution_count": 16,
   "id": "8472dded",
   "metadata": {},
   "outputs": [],
   "source": [
    "W1,W2,b1,b2 = initialize_parameters()"
   ]
  },
  {
   "cell_type": "code",
   "execution_count": 17,
   "id": "29a1f720",
   "metadata": {
    "scrolled": true
   },
   "outputs": [
    {
     "name": "stdout",
     "output_type": "stream",
     "text": [
      "epoch: 0 accuracy: 8.618333333333334\n",
      "epoch: 20 accuracy: 74.11666666666666\n",
      "epoch: 40 accuracy: 81.84166666666667\n",
      "epoch: 60 accuracy: 84.66166666666666\n",
      "epoch: 80 accuracy: 86.32666666666667\n",
      "epoch: 100 accuracy: 87.31333333333333\n",
      "epoch: 120 accuracy: 88.095\n",
      "epoch: 140 accuracy: 88.65166666666666\n",
      "epoch: 160 accuracy: 89.1\n",
      "epoch: 180 accuracy: 89.52833333333334\n",
      "done\n"
     ]
    }
   ],
   "source": [
    "epochs = int(200)\n",
    "lr = float(0.1)\n",
    "accuracy = int(0)\n",
    "for i in range(epochs):\n",
    "    A1,A2,Z1 = forward_prop(X_train,W1,b1,W2,b2)\n",
    "    dW1,dW2,db1,db2,dZ2,dZ1,g_z = backward_prop(A2,Y_train_prob,A1,W2,X_train,Z1)\n",
    "    W1 = W1 - lr*dW1\n",
    "    W2 = W2 - lr*dW2\n",
    "    b1 = b1 - lr*db1\n",
    "    b2 = b2 - lr*db2\n",
    "    if i%(epochs/10) == 0:\n",
    "        print(f\"epoch: {i} accuracy: {compute_accuracy(A2,Y_train)}\")\n",
    "#         print()\n",
    "#         print(db2)  Cost:{compute_cost(A2,Y_train)}\n",
    "#         print(f\"epoch: {i+1} g_z: {g_z} dW1: {dW1} dZ1:{dZ1} \") #b1: {b1} b2: {b2} dW2: {dW2} db1:{db1} db2: {db2} W1: {W1} W2: {W2}\n",
    "#         print(f\"Z1: {Z1} A1: {A1} A2:{A2}\")\n",
    "    \n",
    "print(\"done\")    "
   ]
  },
  {
   "cell_type": "code",
   "execution_count": 18,
   "id": "4a969545",
   "metadata": {},
   "outputs": [
    {
     "name": "stdout",
     "output_type": "stream",
     "text": [
      "90.18\n"
     ]
    }
   ],
   "source": [
    "# Calculate accuracy on test set\n",
    "_,A_test,_ = forward_prop(X_test,W1,b1,W2,b2)\n",
    "print(compute_accuracy(A_test,Y_test))"
   ]
  },
  {
   "cell_type": "code",
   "execution_count": 19,
   "id": "75c48d7e",
   "metadata": {
    "scrolled": false
   },
   "outputs": [
    {
     "data": {
      "text/plain": [
       "array([7, 2, 1, 0, 4, 1, 4, 9, 6, 9, 0, 6, 9, 0, 1], dtype=int64)"
      ]
     },
     "execution_count": 19,
     "metadata": {},
     "output_type": "execute_result"
    }
   ],
   "source": [
    "ans = predict(X_test[:,:15],W1,b1,W2,b2)\n",
    "# np.argmax(ans)\n",
    "ans\n",
    "\n",
    "# print(A2[:,:5])\n",
    "# np.argmax(A2,0)"
   ]
  },
  {
   "cell_type": "code",
   "execution_count": 20,
   "id": "7c1719f1",
   "metadata": {},
   "outputs": [
    {
     "name": "stdout",
     "output_type": "stream",
     "text": [
      "[ 4  8 12 16]\n"
     ]
    }
   ],
   "source": [
    "Tm = np.array([[1,2,3,4],\n",
    "              [1,2,3,4],\n",
    "              [1,2,3,4],\n",
    "              [1,2,3,4]])\n",
    "Ts = np.array([3,0,2,3])\n",
    "print(np.sum(Tm,0))"
   ]
  },
  {
   "cell_type": "code",
   "execution_count": 21,
   "id": "fc4a679d",
   "metadata": {
    "scrolled": false
   },
   "outputs": [
    {
     "name": "stdout",
     "output_type": "stream",
     "text": [
      "5\n",
      "[[  0.   0.   0.   0.   0.   0.   0.   0.   0.   0.   0.   0.   0.   0.\n",
      "    0.   0.   0.   0.   0.   0.   0.   0.   0.   0.   0.   0.   0.   0.]\n",
      " [  0.   0.   0.   0.   0.   0.   0.   0.   0.   0.   0.   0.   0.   0.\n",
      "    0.   0.   0.   0.   0.   0.   0.   0.   0.   0.   0.   0.   0.   0.]\n",
      " [  0.   0.   0.   0.   0.   0.   0.   0.   0.   0.   0.   0.   0.   0.\n",
      "    0.   0.   0.   0.   0.   0.   0.   0.   0.   0.   0.   0.   0.   0.]\n",
      " [  0.   0.   0.   0.   0.   0.   0.   0.   0.   0.   0.   0.   0.   0.\n",
      "    0.   0.   0.   0.   0.   0.   0.   0.   0.   0.   0.   0.   0.   0.]\n",
      " [  0.   0.   0.   0.   0.   0.   0.   0.   0.   0.   0.   0.   0.   0.\n",
      "    0.   0.   0.   0.   0.   0.   0.   0.   0.   0.   0.   0.   0.   0.]\n",
      " [  0.   0.   0.   0.   0.   0.   0.   0.   0.   0.   0.   0.   3.  18.\n",
      "   18.  18. 126. 136. 175.  26. 166. 255. 247. 127.   0.   0.   0.   0.]\n",
      " [  0.   0.   0.   0.   0.   0.   0.   0.  30.  36.  94. 154. 170. 253.\n",
      "  253. 253. 253. 253. 225. 172. 253. 242. 195.  64.   0.   0.   0.   0.]\n",
      " [  0.   0.   0.   0.   0.   0.   0.  49. 238. 253. 253. 253. 253. 253.\n",
      "  253. 253. 253. 251.  93.  82.  82.  56.  39.   0.   0.   0.   0.   0.]\n",
      " [  0.   0.   0.   0.   0.   0.   0.  18. 219. 253. 253. 253. 253. 253.\n",
      "  198. 182. 247. 241.   0.   0.   0.   0.   0.   0.   0.   0.   0.   0.]\n",
      " [  0.   0.   0.   0.   0.   0.   0.   0.  80. 156. 107. 253. 253. 205.\n",
      "   11.   0.  43. 154.   0.   0.   0.   0.   0.   0.   0.   0.   0.   0.]\n",
      " [  0.   0.   0.   0.   0.   0.   0.   0.   0.  14.   1. 154. 253.  90.\n",
      "    0.   0.   0.   0.   0.   0.   0.   0.   0.   0.   0.   0.   0.   0.]\n",
      " [  0.   0.   0.   0.   0.   0.   0.   0.   0.   0.   0. 139. 253. 190.\n",
      "    2.   0.   0.   0.   0.   0.   0.   0.   0.   0.   0.   0.   0.   0.]\n",
      " [  0.   0.   0.   0.   0.   0.   0.   0.   0.   0.   0.  11. 190. 253.\n",
      "   70.   0.   0.   0.   0.   0.   0.   0.   0.   0.   0.   0.   0.   0.]\n",
      " [  0.   0.   0.   0.   0.   0.   0.   0.   0.   0.   0.   0.  35. 241.\n",
      "  225. 160. 108.   1.   0.   0.   0.   0.   0.   0.   0.   0.   0.   0.]\n",
      " [  0.   0.   0.   0.   0.   0.   0.   0.   0.   0.   0.   0.   0.  81.\n",
      "  240. 253. 253. 119.  25.   0.   0.   0.   0.   0.   0.   0.   0.   0.]\n",
      " [  0.   0.   0.   0.   0.   0.   0.   0.   0.   0.   0.   0.   0.   0.\n",
      "   45. 186. 253. 253. 150.  27.   0.   0.   0.   0.   0.   0.   0.   0.]\n",
      " [  0.   0.   0.   0.   0.   0.   0.   0.   0.   0.   0.   0.   0.   0.\n",
      "    0.  16.  93. 252. 253. 187.   0.   0.   0.   0.   0.   0.   0.   0.]\n",
      " [  0.   0.   0.   0.   0.   0.   0.   0.   0.   0.   0.   0.   0.   0.\n",
      "    0.   0.   0. 249. 253. 249.  64.   0.   0.   0.   0.   0.   0.   0.]\n",
      " [  0.   0.   0.   0.   0.   0.   0.   0.   0.   0.   0.   0.   0.   0.\n",
      "   46. 130. 183. 253. 253. 207.   2.   0.   0.   0.   0.   0.   0.   0.]\n",
      " [  0.   0.   0.   0.   0.   0.   0.   0.   0.   0.   0.   0.  39. 148.\n",
      "  229. 253. 253. 253. 250. 182.   0.   0.   0.   0.   0.   0.   0.   0.]\n",
      " [  0.   0.   0.   0.   0.   0.   0.   0.   0.   0.  24. 114. 221. 253.\n",
      "  253. 253. 253. 201.  78.   0.   0.   0.   0.   0.   0.   0.   0.   0.]\n",
      " [  0.   0.   0.   0.   0.   0.   0.   0.  23.  66. 213. 253. 253. 253.\n",
      "  253. 198.  81.   2.   0.   0.   0.   0.   0.   0.   0.   0.   0.   0.]\n",
      " [  0.   0.   0.   0.   0.   0.  18. 171. 219. 253. 253. 253. 253. 195.\n",
      "   80.   9.   0.   0.   0.   0.   0.   0.   0.   0.   0.   0.   0.   0.]\n",
      " [  0.   0.   0.   0.  55. 172. 226. 253. 253. 253. 253. 244. 133.  11.\n",
      "    0.   0.   0.   0.   0.   0.   0.   0.   0.   0.   0.   0.   0.   0.]\n",
      " [  0.   0.   0.   0. 136. 253. 253. 253. 212. 135. 132.  16.   0.   0.\n",
      "    0.   0.   0.   0.   0.   0.   0.   0.   0.   0.   0.   0.   0.   0.]\n",
      " [  0.   0.   0.   0.   0.   0.   0.   0.   0.   0.   0.   0.   0.   0.\n",
      "    0.   0.   0.   0.   0.   0.   0.   0.   0.   0.   0.   0.   0.   0.]\n",
      " [  0.   0.   0.   0.   0.   0.   0.   0.   0.   0.   0.   0.   0.   0.\n",
      "    0.   0.   0.   0.   0.   0.   0.   0.   0.   0.   0.   0.   0.   0.]\n",
      " [  0.   0.   0.   0.   0.   0.   0.   0.   0.   0.   0.   0.   0.   0.\n",
      "    0.   0.   0.   0.   0.   0.   0.   0.   0.   0.   0.   0.   0.   0.]]\n"
     ]
    },
    {
     "data": {
      "image/png": "[encoded data removed]",
      "text/plain": [
       "<Figure size 640x480 with 1 Axes>"
      ]
     },
     "metadata": {},
     "output_type": "display_data"
    }
   ],
   "source": [
    "print(Y_test[15])\n",
    "plt.imshow(X_test[:,15].reshape(28,28))\n",
    "print(X_train[:,0].reshape(28,28)*255)"
   ]
  },
  {
   "cell_type": "code",
   "execution_count": 22,
   "id": "49c1f763",
   "metadata": {},
   "outputs": [
    {
     "data": {
      "text/plain": [
       "5"
      ]
     },
     "execution_count": 22,
     "metadata": {},
     "output_type": "execute_result"
    }
   ],
   "source": [
    "np.argmax(softmax(Y_test_prob[:,15]))"
   ]
  },
  {
   "cell_type": "code",
   "execution_count": 23,
   "id": "611a4656",
   "metadata": {
    "scrolled": false
   },
   "outputs": [
    {
     "name": "stdout",
     "output_type": "stream",
     "text": [
      "(784, 1)\n"
     ]
    },
    {
     "ename": "KeyboardInterrupt",
     "evalue": "",
     "output_type": "error",
     "traceback": [
      "\u001b[1;31m---------------------------------------------------------------------------\u001b[0m",
      "\u001b[1;31mKeyboardInterrupt\u001b[0m                         Traceback (most recent call last)",
      "Cell \u001b[1;32mIn[23], line 22\u001b[0m\n\u001b[0;32m     20\u001b[0m             \u001b[38;5;28;01mreturn\u001b[39;00m \u001b[38;5;241m0\u001b[39m\n\u001b[0;32m     21\u001b[0m     \u001b[38;5;28mprint\u001b[39m(ans)\n\u001b[1;32m---> 22\u001b[0m \u001b[43midentify\u001b[49m\u001b[43m(\u001b[49m\u001b[43m)\u001b[49m\n",
      "Cell \u001b[1;32mIn[23], line 11\u001b[0m, in \u001b[0;36midentify\u001b[1;34m()\u001b[0m\n\u001b[0;32m      9\u001b[0m \u001b[38;5;28mprint\u001b[39m(res\u001b[38;5;241m.\u001b[39mshape)\n\u001b[0;32m     10\u001b[0m ans \u001b[38;5;241m=\u001b[39m predict(res,W1,b1,W2,b2)\n\u001b[1;32m---> 11\u001b[0m \u001b[38;5;28;01mif\u001b[39;00m \u001b[43mmessagebox\u001b[49m\u001b[38;5;241;43m.\u001b[39;49m\u001b[43maskquestion\u001b[49m\u001b[43m(\u001b[49m\u001b[38;5;124;43m\"\u001b[39;49m\u001b[38;5;124;43mNumber guesser\u001b[39;49m\u001b[38;5;124;43m\"\u001b[39;49m\u001b[43m \u001b[49m\u001b[43m,\u001b[49m\u001b[43m \u001b[49m\u001b[38;5;124;43m\"\u001b[39;49m\u001b[38;5;124;43mDid you draw\u001b[39;49m\u001b[38;5;124;43m\"\u001b[39;49m\u001b[43m \u001b[49m\u001b[38;5;241;43m+\u001b[39;49m\u001b[43m \u001b[49m\u001b[38;5;28;43mstr\u001b[39;49m\u001b[43m(\u001b[49m\u001b[43mans\u001b[49m\u001b[43m)\u001b[49m\u001b[43m)\u001b[49m:\n\u001b[0;32m     12\u001b[0m     \u001b[38;5;28;01mif\u001b[39;00m messagebox\u001b[38;5;241m.\u001b[39maskretrycancel():\n\u001b[0;32m     13\u001b[0m         identify()\n",
      "File \u001b[1;32m~\\anaconda3\\lib\\tkinter\\messagebox.py:103\u001b[0m, in \u001b[0;36maskquestion\u001b[1;34m(title, message, **options)\u001b[0m\n\u001b[0;32m    101\u001b[0m \u001b[38;5;28;01mdef\u001b[39;00m \u001b[38;5;21maskquestion\u001b[39m(title\u001b[38;5;241m=\u001b[39m\u001b[38;5;28;01mNone\u001b[39;00m, message\u001b[38;5;241m=\u001b[39m\u001b[38;5;28;01mNone\u001b[39;00m, \u001b[38;5;241m*\u001b[39m\u001b[38;5;241m*\u001b[39moptions):\n\u001b[0;32m    102\u001b[0m     \u001b[38;5;124m\"\u001b[39m\u001b[38;5;124mAsk a question\u001b[39m\u001b[38;5;124m\"\u001b[39m\n\u001b[1;32m--> 103\u001b[0m     \u001b[38;5;28;01mreturn\u001b[39;00m _show(title, message, QUESTION, YESNO, \u001b[38;5;241m*\u001b[39m\u001b[38;5;241m*\u001b[39moptions)\n",
      "File \u001b[1;32m~\\anaconda3\\lib\\tkinter\\messagebox.py:76\u001b[0m, in \u001b[0;36m_show\u001b[1;34m(title, message, _icon, _type, **options)\u001b[0m\n\u001b[0;32m     74\u001b[0m \u001b[38;5;28;01mif\u001b[39;00m title:   options[\u001b[38;5;124m\"\u001b[39m\u001b[38;5;124mtitle\u001b[39m\u001b[38;5;124m\"\u001b[39m] \u001b[38;5;241m=\u001b[39m title\n\u001b[0;32m     75\u001b[0m \u001b[38;5;28;01mif\u001b[39;00m message: options[\u001b[38;5;124m\"\u001b[39m\u001b[38;5;124mmessage\u001b[39m\u001b[38;5;124m\"\u001b[39m] \u001b[38;5;241m=\u001b[39m message\n\u001b[1;32m---> 76\u001b[0m res \u001b[38;5;241m=\u001b[39m \u001b[43mMessage\u001b[49m\u001b[43m(\u001b[49m\u001b[38;5;241;43m*\u001b[39;49m\u001b[38;5;241;43m*\u001b[39;49m\u001b[43moptions\u001b[49m\u001b[43m)\u001b[49m\u001b[38;5;241;43m.\u001b[39;49m\u001b[43mshow\u001b[49m\u001b[43m(\u001b[49m\u001b[43m)\u001b[49m\n\u001b[0;32m     77\u001b[0m \u001b[38;5;66;03m# In some Tcl installations, yes/no is converted into a boolean.\u001b[39;00m\n\u001b[0;32m     78\u001b[0m \u001b[38;5;28;01mif\u001b[39;00m \u001b[38;5;28misinstance\u001b[39m(res, \u001b[38;5;28mbool\u001b[39m):\n",
      "File \u001b[1;32m~\\anaconda3\\lib\\tkinter\\commondialog.py:45\u001b[0m, in \u001b[0;36mDialog.show\u001b[1;34m(self, **options)\u001b[0m\n\u001b[0;32m     43\u001b[0m \u001b[38;5;28;01mtry\u001b[39;00m:\n\u001b[0;32m     44\u001b[0m     \u001b[38;5;28mself\u001b[39m\u001b[38;5;241m.\u001b[39m_test_callback(master)  \u001b[38;5;66;03m# The function below is replaced for some tests.\u001b[39;00m\n\u001b[1;32m---> 45\u001b[0m     s \u001b[38;5;241m=\u001b[39m \u001b[43mmaster\u001b[49m\u001b[38;5;241;43m.\u001b[39;49m\u001b[43mtk\u001b[49m\u001b[38;5;241;43m.\u001b[39;49m\u001b[43mcall\u001b[49m\u001b[43m(\u001b[49m\u001b[38;5;28;43mself\u001b[39;49m\u001b[38;5;241;43m.\u001b[39;49m\u001b[43mcommand\u001b[49m\u001b[43m,\u001b[49m\u001b[43m \u001b[49m\u001b[38;5;241;43m*\u001b[39;49m\u001b[43mmaster\u001b[49m\u001b[38;5;241;43m.\u001b[39;49m\u001b[43m_options\u001b[49m\u001b[43m(\u001b[49m\u001b[38;5;28;43mself\u001b[39;49m\u001b[38;5;241;43m.\u001b[39;49m\u001b[43moptions\u001b[49m\u001b[43m)\u001b[49m\u001b[43m)\u001b[49m\n\u001b[0;32m     46\u001b[0m     s \u001b[38;5;241m=\u001b[39m \u001b[38;5;28mself\u001b[39m\u001b[38;5;241m.\u001b[39m_fixresult(master, s)\n\u001b[0;32m     47\u001b[0m \u001b[38;5;28;01mfinally\u001b[39;00m:\n",
      "\u001b[1;31mKeyboardInterrupt\u001b[0m: "
     ]
    },
    {
     "data": {
      "image/png": "[encoded data removed]",
      "text/plain": [
       "<Figure size 640x480 with 1 Axes>"
      ]
     },
     "metadata": {},
     "output_type": "display_data"
    }
   ],
   "source": [
    "\n",
    "\n",
    "def identify():\n",
    "    image = Image.open('temp.jpg').convert('L')\n",
    "    plt.imshow(image)\n",
    "    data = 255 - np.asarray(image)\n",
    "    res = cv2.resize(data, dsize=(28, 28), interpolation=cv2.INTER_AREA)\n",
    "    plt.imshow(res)\n",
    "    res = res.reshape(-1,1)/255\n",
    "#     print(type(res))\n",
    "    print(res.shape)\n",
    "    ans = predict(res,W1,b1,W2,b2)\n",
    "#     if messagebox.askquestion(\"Number guesser\" , \"Did you draw\" + str(ans)):\n",
    "#         if messagebox.askretrycancel():\n",
    "#             identify()\n",
    "#         else:\n",
    "#             return 0\n",
    "#     else:\n",
    "#         if messagebox.askretrycancel():\n",
    "#             identify()\n",
    "#         else:\n",
    "#             return 0\n",
    "    print(ans)\n",
    "identify()\n"
   ]
  },
  {
   "cell_type": "code",
   "execution_count": null,
   "id": "3661c274",
   "metadata": {
    "scrolled": true
   },
   "outputs": [],
   "source": [
    "\n",
    "\n",
    "#Defining Class and constructor of the Program\n",
    "class Draw():\n",
    "    def __init__(self,root):\n",
    "\n",
    "#Defining title and Size of the Tkinter Window GUI\n",
    "        self.root =root\n",
    "        self.root.title(\"Digit Drawing Tool\")\n",
    "        self.root.geometry(\"400x350\")\n",
    "        self.root.configure(background=\"white\")\n",
    "        # self.root.resizable(0,0)\n",
    " \n",
    "#variables for pointer and Eraser   \n",
    "        self.pointer= \"black\"\n",
    "        self.erase=\"white\"\n",
    "\n",
    "#Widgets for Tkinter Window\n",
    "    \n",
    "# Configure the alignment , font size and color of the text\n",
    "        text=Text(root)\n",
    "        text.tag_configure(\"tag_name\", justify='center', font=('arial',25),background='#292826',foreground='orange')\n",
    "\n",
    "# Insert a Text\n",
    "        text.insert(\"1.0\", \"Draw only one digit (0-9)\")\n",
    "\n",
    "# Add the tag for following given text\n",
    "        text.tag_add(\"tag_name\", \"1.0\", \"end\")\n",
    "        text.pack()\n",
    "        \n",
    "# Pick a color for drawing from color pannel\n",
    "        # self.pick_color = LabelFrame(self.root,font =('arial',15),bd=5,relief=RIDGE,bg=\"white\")\n",
    "        # self.pick_color.place(x=0,y=40,width=45,height=45)\n",
    "\n",
    "        # # colors = ['blue','red','green', 'orange','violet','black','yellow','purple','pink','gold','brown','indigo']\n",
    "        # color = 'black'\n",
    "        # i=j=0\n",
    "        # Button(self.pick_color,bg=color,bd=2,relief=RIDGE,width=3,command=lambda col=color:self.select_color(col)).grid(row=i,column=j)\n",
    "        # # for color in colors:\n",
    "        # #     i+=1\n",
    "        #     if i==6:\n",
    "        #         i=0\n",
    "        #         j=1\n",
    "\n",
    " # Erase Button and its properties   \n",
    "        self.eraser_btn= Button(self.root,text=\"Eraser\",bd=4,bg='white',command=self.eraser,width=9,relief=RIDGE)\n",
    "        self.eraser_btn.place(x=0,y=40)\n",
    "\n",
    "# Reset Button to clear the entire screen \n",
    "        self.clear_screen= Button(self.root,text=\"Clear Screen\",bd=4,bg='white',command= lambda : self.background.delete('all'),width=9,relief=RIDGE)\n",
    "        self.clear_screen.place(x=0,y=70)\n",
    "\n",
    "# Save Button for saving the image in local computer\n",
    "        self.save_btn= Button(self.root,text=\"Identify\",bd=4,bg='white',command=self.save_drawing,width=9,relief=RIDGE)\n",
    "        self.save_btn.place(x=0,y=100)\n",
    "\n",
    "# Background Button for choosing color of the Canvas\n",
    "        # self.bg_btn= Button(self.root,text=\"Background\",bd=4,bg='white',command=self.canvas_color,width=9,relief=RIDGE)\n",
    "        # self.bg_btn.place(x=0,y=287)\n",
    "\n",
    "\n",
    "#Creating a Scale for pointer and eraser size\n",
    "        self.pointer_frame= LabelFrame(self.root,text='size',bd=5,bg='white',font=('arial',15,'bold'),relief=RIDGE)\n",
    "        self.pointer_frame.place(x=0,y=130,height=200,width=70)\n",
    "\n",
    "        self.pointer_size =Scale(self.pointer_frame,orient=VERTICAL,from_ =48 , to =0, length=168)\n",
    "        self.pointer_size.set(1)\n",
    "        self.pointer_size.grid(row=0,column=1,padx=15)\n",
    "\n",
    "\n",
    "#Defining a background color for the Canvas \n",
    "        self.background = Canvas(self.root,bg='white',bd=5,relief=GROOVE,height=470,width=680)\n",
    "        self.background.place(x=80,y=40)\n",
    "\n",
    "\n",
    "#Bind the background Canvas with mouse click\n",
    "        self.background.bind(\"<B1-Motion>\",self.paint) \n",
    "\n",
    "\n",
    "# Functions are defined here\n",
    "\n",
    "# Paint Function for Drawing the lines on Canvas\n",
    "    def paint(self,event):       \n",
    "        x1,y1 = (event.x-2), (event.y-2)  \n",
    "        x2,y2 = (event.x+2), (event.y+2)  \n",
    "\n",
    "        self.background.create_oval(x1,y1,x2,y2,fill=self.pointer,outline=self.pointer,width=self.pointer_size.get())\n",
    "\n",
    "# Function for choosing the color of pointer  \n",
    "    def select_color(self,col):\n",
    "        self.pointer = col\n",
    "\n",
    "# Function for defining the eraser\n",
    "    def eraser(self):\n",
    "        self.pointer= self.erase\n",
    "\n",
    "# Function for choosing the background color of the Canvas    \n",
    "    def canvas_color(self):\n",
    "        color=colorchooser.askcolor()\n",
    "        self.background.configure(background=color[1])\n",
    "        self.erase= color[1]\n",
    "\n",
    "# Function for saving the image file in Local Computer\n",
    "    def save_drawing(self):\n",
    "        try:\n",
    "            # self.background update()\n",
    "#             file_ss =filedialog.asksaveasfilename(defaultextension='jpg')\n",
    "            #print(file_ss)\n",
    "            x = self.root.winfo_rootx() + self.background.winfo_x() + 60\n",
    "            #print(x, self.background.winfo_x())\n",
    "            y = self.root.winfo_rooty() + self.background.winfo_y() + 55\n",
    "            #print(y)\n",
    "            x1= x + self.background.winfo_width() - 3*self.background.winfo_x() -90\n",
    "            #print(x1)\n",
    "            y1= y + self.background.winfo_height() - 2*self.background.winfo_y() -40\n",
    "            #print(y1)\n",
    "            ImageGrab.grab().crop((x , y, x1, y1)).save(\"temp.jpg\")\n",
    "#             messagebox.showinfo('Please wait')\n",
    "            identify()\n",
    "        except:\n",
    "            print(\"Error. Please wait\")\n",
    "\n",
    "if __name__ ==\"__main__\":\n",
    "    root = Tk()\n",
    "    p= Draw(root)\n",
    "    root.mainloop()"
   ]
  },
  {
   "cell_type": "code",
   "execution_count": null,
   "id": "7706635b",
   "metadata": {},
   "outputs": [],
   "source": []
  }
 ],
 "metadata": {
  "kernelspec": {
   "display_name": "Python 3 (ipykernel)",
   "language": "python",
   "name": "python3"
  },
  "language_info": {
   "codemirror_mode": {
    "name": "ipython",
    "version": 3
   },
   "file_extension": ".py",
   "mimetype": "text/x-python",
   "name": "python",
   "nbconvert_exporter": "python",
   "pygments_lexer": "ipython3",
   "version": "3.10.9"
  }
 },
 "nbformat": 4,
 "nbformat_minor": 5
}
